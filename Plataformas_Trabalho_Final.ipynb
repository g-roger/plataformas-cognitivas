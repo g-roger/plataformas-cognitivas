{
  "nbformat": 4,
  "nbformat_minor": 0,
  "metadata": {
    "colab": {
      "name": "Plataformas - Trabalho Final.ipynb",
      "provenance": [],
      "collapsed_sections": [],
      "toc_visible": true,
      "include_colab_link": true
    },
    "kernelspec": {
      "name": "python3",
      "display_name": "Python 3"
    }
  },
  "cells": [
    {
      "cell_type": "markdown",
      "metadata": {
        "id": "view-in-github",
        "colab_type": "text"
      },
      "source": [
        "<a href=\"https://colab.research.google.com/github/g-roger/plataformas-cognitivas/blob/main/Plataformas_Trabalho_Final.ipynb\" target=\"_parent\"><img src=\"https://colab.research.google.com/assets/colab-badge.svg\" alt=\"Open In Colab\"/></a>"
      ]
    },
    {
      "cell_type": "markdown",
      "metadata": {
        "id": "ITZ8X-hf6DZ2"
      },
      "source": [
        "# Configurações"
      ]
    },
    {
      "cell_type": "markdown",
      "metadata": {
        "id": "AuzRkIfO6M_d"
      },
      "source": [
        "Imports de Pacotes"
      ]
    },
    {
      "cell_type": "code",
      "metadata": {
        "id": "GMPxIg3j480h"
      },
      "source": [
        "from IPython.display import display, Javascript\n",
        "from IPython.display import Image\n",
        "from google.colab.output import eval_js\n",
        "from base64 import b64decode"
      ],
      "execution_count": null,
      "outputs": []
    },
    {
      "cell_type": "markdown",
      "metadata": {
        "id": "SsLYaoPJ6O65"
      },
      "source": [
        "Funções úteis"
      ]
    },
    {
      "cell_type": "code",
      "metadata": {
        "id": "fgjAkHGT4_PW"
      },
      "source": [
        "def take_photo(filename='photo.jpg', quality=0.8):\n",
        "  js = Javascript('''\n",
        "    async function takePhoto(quality) {\n",
        "      const div = document.createElement('div');\n",
        "      const capture = document.createElement('button');\n",
        "      capture.textContent = 'Capture';\n",
        "      div.appendChild(capture);\n",
        "\n",
        "      const video = document.createElement('video');\n",
        "      video.style.display = 'block';\n",
        "      const stream = await navigator.mediaDevices.getUserMedia({video: true});\n",
        "\n",
        "      document.body.appendChild(div);\n",
        "      div.appendChild(video);\n",
        "      video.srcObject = stream;\n",
        "      await video.play();\n",
        "\n",
        "      // Resize the output to fit the video element.\n",
        "      google.colab.output.setIframeHeight(document.documentElement.scrollHeight, true);\n",
        "\n",
        "      // Wait for Capture to be clicked.\n",
        "      await new Promise((resolve) => capture.onclick = resolve);\n",
        "\n",
        "      const canvas = document.createElement('canvas');\n",
        "      canvas.width = video.videoWidth;\n",
        "      canvas.height = video.videoHeight;\n",
        "      canvas.getContext('2d').drawImage(video, 0, 0);\n",
        "      stream.getVideoTracks()[0].stop();\n",
        "      div.remove();\n",
        "      return canvas.toDataURL('image/jpeg', quality);\n",
        "    }\n",
        "    ''')\n",
        "  display(js)\n",
        "  data = eval_js('takePhoto({})'.format(quality))\n",
        "  binary = b64decode(data.split(',')[1])\n",
        "  with open(filename, 'wb') as f:\n",
        "    f.write(binary)\n",
        "  return filename"
      ],
      "execution_count": null,
      "outputs": []
    },
    {
      "cell_type": "markdown",
      "metadata": {
        "id": "ylp3x05m6Sp9"
      },
      "source": [
        "# Informações do cliente"
      ]
    },
    {
      "cell_type": "code",
      "metadata": {
        "id": "DP6I38-R6Zpp"
      },
      "source": [
        "#@title Preencha aqui com as informações do cliente requisitante\n",
        "\n",
        "#@markdown Informe todos os campos a seguir:\n",
        "nome = \"Informe aqui o nome\" #@param {type:\"string\"}\n",
        "\n",
        "renda = 1000.00 #@param {type:\"number\"}\n",
        "idade = 18 #@param {type:\"slider\", min:18, max:100, step:1}\n",
        "etnia = \"Selecionar etnia\"  #@param [\"Selecionar etnia\", \"Etnia01\", \"Etnia02\"]\n",
        "genero = \"Feminino\" #@param [\"Masculino\", \"Feminino\"]\n",
        "casa_propria = \"Selecionar\" #@param [\"Selecionar\", \"Sim\", \"Não\"]\n",
        "outras_rendas = \"Selecionar\" #@param [\"Selecionar\", \"Sim\", \"Não\"]\n",
        "estado_civil = \"Selecionar\" #@param [\"Selecionar\", \"Estado01\", \"Estado02\"]\n",
        "escolaridade = 1 #@param {type:\"slider\", min:0, max:3, step:1}\n",
        "\n",
        "#@markdown ---\n"
      ],
      "execution_count": null,
      "outputs": []
    },
    {
      "cell_type": "code",
      "metadata": {
        "id": "dlLpClyi4_PB",
        "outputId": "38114a61-0d70-4012-c6c1-695b09b1c040",
        "colab": {
          "base_uri": "https://localhost:8080/",
          "height": 514
        }
      },
      "source": [
        "#@title Tire uma foto do cliente requerente (ou tire uma foto sua mesmo)\n",
        "\n",
        "try:\n",
        "  filename = take_photo()\n",
        "  print('Saved to {}'.format(filename))\n",
        "  \n",
        "  # Show the image which was just taken.\n",
        "  display(Image(filename))\n",
        "except Exception as err:\n",
        "  # Errors will be thrown if the user does not have a webcam or if they do not\n",
        "  # grant the page permission to access it.\n",
        "  print(str(err))"
      ],
      "execution_count": null,
      "outputs": [
        {
          "output_type": "display_data",
          "data": {
            "application/javascript": [
              "\n",
              "    async function takePhoto(quality) {\n",
              "      const div = document.createElement('div');\n",
              "      const capture = document.createElement('button');\n",
              "      capture.textContent = 'Capture';\n",
              "      div.appendChild(capture);\n",
              "\n",
              "      const video = document.createElement('video');\n",
              "      video.style.display = 'block';\n",
              "      const stream = await navigator.mediaDevices.getUserMedia({video: true});\n",
              "\n",
              "      document.body.appendChild(div);\n",
              "      div.appendChild(video);\n",
              "      video.srcObject = stream;\n",
              "      await video.play();\n",
              "\n",
              "      // Resize the output to fit the video element.\n",
              "      google.colab.output.setIframeHeight(document.documentElement.scrollHeight, true);\n",
              "\n",
              "      // Wait for Capture to be clicked.\n",
              "      await new Promise((resolve) => capture.onclick = resolve);\n",
              "\n",
              "      const canvas = document.createElement('canvas');\n",
              "      canvas.width = video.videoWidth;\n",
              "      canvas.height = video.videoHeight;\n",
              "      canvas.getContext('2d').drawImage(video, 0, 0);\n",
              "      stream.getVideoTracks()[0].stop();\n",
              "      div.remove();\n",
              "      return canvas.toDataURL('image/jpeg', quality);\n",
              "    }\n",
              "    "
            ],
            "text/plain": [
              "<IPython.core.display.Javascript object>"
            ]
          },
          "metadata": {
            "tags": []
          }
        },
        {
          "output_type": "stream",
          "text": [
            "Saved to photo.jpg\n"
          ],
          "name": "stdout"
        },
        {
          "output_type": "display_data",
          "data": {
            "image/jpeg": "[encoded data removed]",
            "text/plain": [
              "<IPython.core.display.Image object>"
            ]
          },
          "metadata": {
            "tags": []
          }
        }
      ]
    },
    {
      "cell_type": "markdown",
      "metadata": {
        "id": "3l57T0ap-sgc"
      },
      "source": [
        "# Análise de crédito"
      ]
    },
    {
      "cell_type": "markdown",
      "metadata": {
        "id": "SQDMb5NN-0wc"
      },
      "source": [
        "1. Verifique se na imagem possui uma pessoa, utilizando a API \"default\" da IBM; Se não possuir, informar mensagem e não conceder o empréstimo.\n",
        "\n",
        "\n",
        "2.  Verifique se a imagem apresenta conteúdo explícito , utilizando a API \"explicit\"da IBM; Se possuir, informar mensagem e não conceder o empréstimo.  \n",
        "\n",
        "\n",
        "3. Verificar o gênero e a idade da pessoa utilizando a API de reconhecimento facial da Microsoft Azure; Se não for o mesmo gênero ou se a idade diferir em 5 anos (para mais ou para menos), informar mensagem e não conceder o empréstimo.\n",
        "\n",
        "\n",
        "4. Exibir a imagem novamente no notebook com os pontos \"fiduciais\" da face da pessoa, obtidos pela API da Azure. (em uma aplicação corporativa, estes pontos ficam gravados para futuras autenticações)\n",
        "\n",
        "\n",
        "5. Chamar a API de Machine Learning em um contêiner feito em Docker e que esteja rodando em uma máquina virtual no Google Cloud. Esta API deve usar os dados informados neste notebook e **automaticamente** vetar ou conceder o empréstimo.\n",
        "\n",
        "\n",
        "ATENÇÃO PARA O BULLET 5: É necessário chamar tanto um modelo que possua a variável ETNIA quanto um modelo que não possui esta variável, assim como fizemos em aula!!!\n",
        "\n",
        "\n",
        "6. Gravar um vídeo \"operando\" o notebook e simulando a avaliação com concessão ou reprovação do crédito.\n",
        "\n",
        "\n",
        "7. Submeter o Notebook e o vídeo da plataforma da FIAP, se o vídeo ficar muito grande, submeter ao Youtube (pode ser privado) e anexar o Link.\n",
        "\n",
        "---  \n",
        "(Dica: Você pode usar este vídeo para divulgar seu trabalho como Engenheiro de ML)\n"
      ]
    },
    {
      "cell_type": "code",
      "metadata": {
        "id": "80d4zZjWAN4L"
      },
      "source": [
        ""
      ],
      "execution_count": null,
      "outputs": []
    },
    {
      "cell_type": "code",
      "metadata": {
        "id": "auBcF_2HEZYa"
      },
      "source": [
        ""
      ],
      "execution_count": null,
      "outputs": []
    }
  ]
}